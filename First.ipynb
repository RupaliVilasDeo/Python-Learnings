{
 "cells": [
  {
   "cell_type": "code",
   "execution_count": null,
   "id": "f99dad0f-f469-4036-b9ee-8b724c721d96",
   "metadata": {},
   "outputs": [],
   "source": []
  }
 ],
 "metadata": {
  "kernelspec": {
   "display_name": "",
   "name": ""
  },
  "language_info": {
   "name": ""
  }
 },
 "nbformat": 4,
 "nbformat_minor": 5
}
